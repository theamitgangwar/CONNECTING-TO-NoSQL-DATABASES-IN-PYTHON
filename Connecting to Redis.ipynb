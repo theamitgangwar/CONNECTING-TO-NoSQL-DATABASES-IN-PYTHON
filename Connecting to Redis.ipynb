{
 "cells": [
  {
   "cell_type": "markdown",
   "metadata": {},
   "source": [
    "# CONNECTING TO REDIS IN PYTHON\n",
    "Downlaod and Install Redis for Windows by following the isntruction given in the link below:\n",
    "https://github.com/ServiceStack/redis-windows#current-version-30503-june-28-2016\n",
    "\n",
    "Install asyncio, aioredis and nest_asyncio libraries by running the following commands in Anaconda prompt\n",
    "1. pip install aioredis\n",
    "2. pip install asyncio\n",
    "3. pip install nest_asyncio\n",
    "\n",
    "Find the commands for Redis in the below link\n",
    "https://redis.io/documentation"
   ]
  },
  {
   "cell_type": "code",
   "execution_count": 28,
   "metadata": {},
   "outputs": [],
   "source": [
    "import asyncio\n",
    "import aioredis\n",
    "import nest_asyncio\n",
    "nest_asyncio.apply()"
   ]
  },
  {
   "cell_type": "code",
   "execution_count": 31,
   "metadata": {},
   "outputs": [],
   "source": [
    "async def main():\n",
    "    \n",
    "    redis = await aioredis.create_redis_pool('redis://localhost')\n",
    "    #setting key value \n",
    "    await redis.set('my-key', 'value')\n",
    "    #retrieving value\n",
    "    value = await redis.get('my-key', encoding='utf-8')\n",
    "    print(value)\n",
    "    redis.close()\n",
    "    await redis.wait_closed()"
   ]
  },
  {
   "cell_type": "code",
   "execution_count": 32,
   "metadata": {
    "scrolled": true
   },
   "outputs": [
    {
     "name": "stdout",
     "output_type": "stream",
     "text": [
      "value\n"
     ]
    }
   ],
   "source": [
    "asyncio.run(main())"
   ]
  }
 ],
 "metadata": {
  "kernelspec": {
   "display_name": "Python 3",
   "language": "python",
   "name": "python3"
  },
  "language_info": {
   "codemirror_mode": {
    "name": "ipython",
    "version": 3
   },
   "file_extension": ".py",
   "mimetype": "text/x-python",
   "name": "python",
   "nbconvert_exporter": "python",
   "pygments_lexer": "ipython3",
   "version": "3.7.6"
  },
  "toc": {
   "base_numbering": 1,
   "nav_menu": {},
   "number_sections": true,
   "sideBar": true,
   "skip_h1_title": false,
   "title_cell": "Table of Contents",
   "title_sidebar": "Contents",
   "toc_cell": false,
   "toc_position": {},
   "toc_section_display": true,
   "toc_window_display": false
  }
 },
 "nbformat": 4,
 "nbformat_minor": 4
}
